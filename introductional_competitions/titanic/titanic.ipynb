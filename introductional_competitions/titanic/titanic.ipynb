{
 "cells": [
  {
   "cell_type": "code",
   "execution_count": 1,
   "id": "c6a90ae8",
   "metadata": {
    "ExecuteTime": {
     "end_time": "2022-02-05T09:55:34.056178Z",
     "start_time": "2022-02-05T09:55:32.719244Z"
    }
   },
   "outputs": [],
   "source": [
    "from typing import List, Union\n",
    "import numpy as np\n",
    "import pandas as pd\n",
    "import plotly.express as px\n",
    "import seaborn as sns\n",
    "from collections import Counter\n",
    "from sklearn import model_selection, linear_model, svm, naive_bayes\n",
    "import itertools\n",
    "\n",
    "sns.set_style(\"darkgrid\")"
   ]
  },
  {
   "cell_type": "markdown",
   "id": "de4e40fd",
   "metadata": {},
   "source": [
    "Import data"
   ]
  },
  {
   "cell_type": "code",
   "execution_count": 2,
   "id": "2f3855d4",
   "metadata": {
    "ExecuteTime": {
     "end_time": "2022-02-05T09:55:34.071324Z",
     "start_time": "2022-02-05T09:55:34.057179Z"
    }
   },
   "outputs": [],
   "source": [
    "train_df = pd.read_csv(\"./data/train.csv\")\n",
    "submit_df = pd.read_csv(\"./data/test.csv\")"
   ]
  },
  {
   "cell_type": "markdown",
   "id": "ca127a1d",
   "metadata": {},
   "source": [
    "## Data exploration"
   ]
  },
  {
   "cell_type": "code",
   "execution_count": 3,
   "id": "5b9dabd5",
   "metadata": {
    "ExecuteTime": {
     "end_time": "2022-02-05T09:55:34.087334Z",
     "start_time": "2022-02-05T09:55:34.072327Z"
    }
   },
   "outputs": [
    {
     "data": {
      "text/html": [
       "<div>\n",
       "<style scoped>\n",
       "    .dataframe tbody tr th:only-of-type {\n",
       "        vertical-align: middle;\n",
       "    }\n",
       "\n",
       "    .dataframe tbody tr th {\n",
       "        vertical-align: top;\n",
       "    }\n",
       "\n",
       "    .dataframe thead th {\n",
       "        text-align: right;\n",
       "    }\n",
       "</style>\n",
       "<table border=\"1\" class=\"dataframe\">\n",
       "  <thead>\n",
       "    <tr style=\"text-align: right;\">\n",
       "      <th></th>\n",
       "      <th>PassengerId</th>\n",
       "      <th>Survived</th>\n",
       "      <th>Pclass</th>\n",
       "      <th>Name</th>\n",
       "      <th>Sex</th>\n",
       "      <th>Age</th>\n",
       "      <th>SibSp</th>\n",
       "      <th>Parch</th>\n",
       "      <th>Ticket</th>\n",
       "      <th>Fare</th>\n",
       "      <th>Cabin</th>\n",
       "      <th>Embarked</th>\n",
       "    </tr>\n",
       "  </thead>\n",
       "  <tbody>\n",
       "    <tr>\n",
       "      <th>0</th>\n",
       "      <td>1</td>\n",
       "      <td>0</td>\n",
       "      <td>3</td>\n",
       "      <td>Braund, Mr. Owen Harris</td>\n",
       "      <td>male</td>\n",
       "      <td>22.0</td>\n",
       "      <td>1</td>\n",
       "      <td>0</td>\n",
       "      <td>A/5 21171</td>\n",
       "      <td>7.2500</td>\n",
       "      <td>NaN</td>\n",
       "      <td>S</td>\n",
       "    </tr>\n",
       "    <tr>\n",
       "      <th>1</th>\n",
       "      <td>2</td>\n",
       "      <td>1</td>\n",
       "      <td>1</td>\n",
       "      <td>Cumings, Mrs. John Bradley (Florence Briggs Th...</td>\n",
       "      <td>female</td>\n",
       "      <td>38.0</td>\n",
       "      <td>1</td>\n",
       "      <td>0</td>\n",
       "      <td>PC 17599</td>\n",
       "      <td>71.2833</td>\n",
       "      <td>C85</td>\n",
       "      <td>C</td>\n",
       "    </tr>\n",
       "    <tr>\n",
       "      <th>2</th>\n",
       "      <td>3</td>\n",
       "      <td>1</td>\n",
       "      <td>3</td>\n",
       "      <td>Heikkinen, Miss. Laina</td>\n",
       "      <td>female</td>\n",
       "      <td>26.0</td>\n",
       "      <td>0</td>\n",
       "      <td>0</td>\n",
       "      <td>STON/O2. 3101282</td>\n",
       "      <td>7.9250</td>\n",
       "      <td>NaN</td>\n",
       "      <td>S</td>\n",
       "    </tr>\n",
       "    <tr>\n",
       "      <th>3</th>\n",
       "      <td>4</td>\n",
       "      <td>1</td>\n",
       "      <td>1</td>\n",
       "      <td>Futrelle, Mrs. Jacques Heath (Lily May Peel)</td>\n",
       "      <td>female</td>\n",
       "      <td>35.0</td>\n",
       "      <td>1</td>\n",
       "      <td>0</td>\n",
       "      <td>113803</td>\n",
       "      <td>53.1000</td>\n",
       "      <td>C123</td>\n",
       "      <td>S</td>\n",
       "    </tr>\n",
       "    <tr>\n",
       "      <th>4</th>\n",
       "      <td>5</td>\n",
       "      <td>0</td>\n",
       "      <td>3</td>\n",
       "      <td>Allen, Mr. William Henry</td>\n",
       "      <td>male</td>\n",
       "      <td>35.0</td>\n",
       "      <td>0</td>\n",
       "      <td>0</td>\n",
       "      <td>373450</td>\n",
       "      <td>8.0500</td>\n",
       "      <td>NaN</td>\n",
       "      <td>S</td>\n",
       "    </tr>\n",
       "  </tbody>\n",
       "</table>\n",
       "</div>"
      ],
      "text/plain": [
       "   PassengerId  Survived  Pclass  \\\n",
       "0            1         0       3   \n",
       "1            2         1       1   \n",
       "2            3         1       3   \n",
       "3            4         1       1   \n",
       "4            5         0       3   \n",
       "\n",
       "                                                Name     Sex   Age  SibSp  \\\n",
       "0                            Braund, Mr. Owen Harris    male  22.0      1   \n",
       "1  Cumings, Mrs. John Bradley (Florence Briggs Th...  female  38.0      1   \n",
       "2                             Heikkinen, Miss. Laina  female  26.0      0   \n",
       "3       Futrelle, Mrs. Jacques Heath (Lily May Peel)  female  35.0      1   \n",
       "4                           Allen, Mr. William Henry    male  35.0      0   \n",
       "\n",
       "   Parch            Ticket     Fare Cabin Embarked  \n",
       "0      0         A/5 21171   7.2500   NaN        S  \n",
       "1      0          PC 17599  71.2833   C85        C  \n",
       "2      0  STON/O2. 3101282   7.9250   NaN        S  \n",
       "3      0            113803  53.1000  C123        S  \n",
       "4      0            373450   8.0500   NaN        S  "
      ]
     },
     "execution_count": 3,
     "metadata": {},
     "output_type": "execute_result"
    }
   ],
   "source": [
    "train_df.head(5)"
   ]
  },
  {
   "cell_type": "markdown",
   "id": "b0f72ff1",
   "metadata": {},
   "source": [
    "We can also extract passenger titles from names such as Mr., Miss, etc."
   ]
  },
  {
   "cell_type": "code",
   "execution_count": 4,
   "id": "161e0320",
   "metadata": {
    "ExecuteTime": {
     "end_time": "2022-02-05T09:55:34.103354Z",
     "start_time": "2022-02-05T09:55:34.089331Z"
    }
   },
   "outputs": [],
   "source": [
    "def get_titles(series: pd.Series) -> pd.Series:\n",
    "    return (train_df['Name']\n",
    "            .str.split(',').apply(lambda x: x[1])\n",
    "            .str.split('.').apply(lambda x: x[0]))\n",
    "\n",
    "\n",
    "train_df['Title'] = get_titles(train_df['Name'])"
   ]
  },
  {
   "cell_type": "code",
   "execution_count": 5,
   "id": "0b0b5de6",
   "metadata": {
    "ExecuteTime": {
     "end_time": "2022-02-05T09:55:34.135362Z",
     "start_time": "2022-02-05T09:55:34.105338Z"
    }
   },
   "outputs": [
    {
     "data": {
      "text/html": [
       "<div>\n",
       "<style scoped>\n",
       "    .dataframe tbody tr th:only-of-type {\n",
       "        vertical-align: middle;\n",
       "    }\n",
       "\n",
       "    .dataframe tbody tr th {\n",
       "        vertical-align: top;\n",
       "    }\n",
       "\n",
       "    .dataframe thead th {\n",
       "        text-align: right;\n",
       "    }\n",
       "</style>\n",
       "<table border=\"1\" class=\"dataframe\">\n",
       "  <thead>\n",
       "    <tr style=\"text-align: right;\">\n",
       "      <th></th>\n",
       "      <th>PassengerId</th>\n",
       "      <th>Survived</th>\n",
       "      <th>Pclass</th>\n",
       "      <th>Age</th>\n",
       "      <th>SibSp</th>\n",
       "      <th>Parch</th>\n",
       "      <th>Fare</th>\n",
       "    </tr>\n",
       "  </thead>\n",
       "  <tbody>\n",
       "    <tr>\n",
       "      <th>count</th>\n",
       "      <td>891.000000</td>\n",
       "      <td>891.000000</td>\n",
       "      <td>891.000000</td>\n",
       "      <td>714.000000</td>\n",
       "      <td>891.000000</td>\n",
       "      <td>891.000000</td>\n",
       "      <td>891.000000</td>\n",
       "    </tr>\n",
       "    <tr>\n",
       "      <th>mean</th>\n",
       "      <td>446.000000</td>\n",
       "      <td>0.383838</td>\n",
       "      <td>2.308642</td>\n",
       "      <td>29.699118</td>\n",
       "      <td>0.523008</td>\n",
       "      <td>0.381594</td>\n",
       "      <td>32.204208</td>\n",
       "    </tr>\n",
       "    <tr>\n",
       "      <th>std</th>\n",
       "      <td>257.353842</td>\n",
       "      <td>0.486592</td>\n",
       "      <td>0.836071</td>\n",
       "      <td>14.526497</td>\n",
       "      <td>1.102743</td>\n",
       "      <td>0.806057</td>\n",
       "      <td>49.693429</td>\n",
       "    </tr>\n",
       "    <tr>\n",
       "      <th>min</th>\n",
       "      <td>1.000000</td>\n",
       "      <td>0.000000</td>\n",
       "      <td>1.000000</td>\n",
       "      <td>0.420000</td>\n",
       "      <td>0.000000</td>\n",
       "      <td>0.000000</td>\n",
       "      <td>0.000000</td>\n",
       "    </tr>\n",
       "    <tr>\n",
       "      <th>25%</th>\n",
       "      <td>223.500000</td>\n",
       "      <td>0.000000</td>\n",
       "      <td>2.000000</td>\n",
       "      <td>20.125000</td>\n",
       "      <td>0.000000</td>\n",
       "      <td>0.000000</td>\n",
       "      <td>7.910400</td>\n",
       "    </tr>\n",
       "    <tr>\n",
       "      <th>50%</th>\n",
       "      <td>446.000000</td>\n",
       "      <td>0.000000</td>\n",
       "      <td>3.000000</td>\n",
       "      <td>28.000000</td>\n",
       "      <td>0.000000</td>\n",
       "      <td>0.000000</td>\n",
       "      <td>14.454200</td>\n",
       "    </tr>\n",
       "    <tr>\n",
       "      <th>75%</th>\n",
       "      <td>668.500000</td>\n",
       "      <td>1.000000</td>\n",
       "      <td>3.000000</td>\n",
       "      <td>38.000000</td>\n",
       "      <td>1.000000</td>\n",
       "      <td>0.000000</td>\n",
       "      <td>31.000000</td>\n",
       "    </tr>\n",
       "    <tr>\n",
       "      <th>max</th>\n",
       "      <td>891.000000</td>\n",
       "      <td>1.000000</td>\n",
       "      <td>3.000000</td>\n",
       "      <td>80.000000</td>\n",
       "      <td>8.000000</td>\n",
       "      <td>6.000000</td>\n",
       "      <td>512.329200</td>\n",
       "    </tr>\n",
       "  </tbody>\n",
       "</table>\n",
       "</div>"
      ],
      "text/plain": [
       "       PassengerId    Survived      Pclass         Age       SibSp  \\\n",
       "count   891.000000  891.000000  891.000000  714.000000  891.000000   \n",
       "mean    446.000000    0.383838    2.308642   29.699118    0.523008   \n",
       "std     257.353842    0.486592    0.836071   14.526497    1.102743   \n",
       "min       1.000000    0.000000    1.000000    0.420000    0.000000   \n",
       "25%     223.500000    0.000000    2.000000   20.125000    0.000000   \n",
       "50%     446.000000    0.000000    3.000000   28.000000    0.000000   \n",
       "75%     668.500000    1.000000    3.000000   38.000000    1.000000   \n",
       "max     891.000000    1.000000    3.000000   80.000000    8.000000   \n",
       "\n",
       "            Parch        Fare  \n",
       "count  891.000000  891.000000  \n",
       "mean     0.381594   32.204208  \n",
       "std      0.806057   49.693429  \n",
       "min      0.000000    0.000000  \n",
       "25%      0.000000    7.910400  \n",
       "50%      0.000000   14.454200  \n",
       "75%      0.000000   31.000000  \n",
       "max      6.000000  512.329200  "
      ]
     },
     "execution_count": 5,
     "metadata": {},
     "output_type": "execute_result"
    }
   ],
   "source": [
    "train_df.describe()"
   ]
  },
  {
   "cell_type": "markdown",
   "id": "f3b1e441",
   "metadata": {},
   "source": [
    "Key insights:\n",
    "1. The dataset is quite small having only 891 entries\n",
    "1. Baseline for the model: Predict that none passangers survived and it will yield accuracy of 42%, since we see that only 38% of passengers survived\n",
    "1. Not all entries contain ages of passengers\n",
    "1. On average 1 in 2 passengers had a sibling or spouse on board and 1 in 3 have a family member (blood related)"
   ]
  },
  {
   "cell_type": "code",
   "execution_count": 6,
   "id": "e6b7f0da",
   "metadata": {
    "ExecuteTime": {
     "end_time": "2022-02-05T09:55:34.151360Z",
     "start_time": "2022-02-05T09:55:34.136349Z"
    }
   },
   "outputs": [
    {
     "data": {
      "text/html": [
       "<div>\n",
       "<style scoped>\n",
       "    .dataframe tbody tr th:only-of-type {\n",
       "        vertical-align: middle;\n",
       "    }\n",
       "\n",
       "    .dataframe tbody tr th {\n",
       "        vertical-align: top;\n",
       "    }\n",
       "\n",
       "    .dataframe thead th {\n",
       "        text-align: right;\n",
       "    }\n",
       "</style>\n",
       "<table border=\"1\" class=\"dataframe\">\n",
       "  <thead>\n",
       "    <tr style=\"text-align: right;\">\n",
       "      <th></th>\n",
       "      <th>PassengerId</th>\n",
       "      <th>Survived</th>\n",
       "      <th>Pclass</th>\n",
       "      <th>Name</th>\n",
       "      <th>Sex</th>\n",
       "      <th>Age</th>\n",
       "      <th>SibSp</th>\n",
       "      <th>Parch</th>\n",
       "      <th>Ticket</th>\n",
       "      <th>Fare</th>\n",
       "      <th>Cabin</th>\n",
       "      <th>Embarked</th>\n",
       "      <th>Title</th>\n",
       "    </tr>\n",
       "  </thead>\n",
       "  <tbody>\n",
       "    <tr>\n",
       "      <th>0</th>\n",
       "      <td>0</td>\n",
       "      <td>0</td>\n",
       "      <td>0</td>\n",
       "      <td>0</td>\n",
       "      <td>0</td>\n",
       "      <td>177</td>\n",
       "      <td>0</td>\n",
       "      <td>0</td>\n",
       "      <td>0</td>\n",
       "      <td>0</td>\n",
       "      <td>687</td>\n",
       "      <td>2</td>\n",
       "      <td>0</td>\n",
       "    </tr>\n",
       "  </tbody>\n",
       "</table>\n",
       "</div>"
      ],
      "text/plain": [
       "   PassengerId  Survived  Pclass  Name  Sex  Age  SibSp  Parch  Ticket  Fare  \\\n",
       "0            0         0       0     0    0  177      0      0       0     0   \n",
       "\n",
       "   Cabin  Embarked  Title  \n",
       "0    687         2      0  "
      ]
     },
     "execution_count": 6,
     "metadata": {},
     "output_type": "execute_result"
    }
   ],
   "source": [
    "train_df.isna().sum().to_frame().T"
   ]
  },
  {
   "cell_type": "markdown",
   "id": "51ed9b11",
   "metadata": {},
   "source": [
    "Missing alot of cabain numbers, but such information is most likeley not useful for prediction anyways, as we have better variables that suggest about the cabains location or quality - Fare and Ticket class.\n",
    "\n",
    "Age on the other hand might be a crucial feature, based on the rule \"Childern and Women first\". We should try some solutions for it. Removing missing data does not seem good as it accounts for 20% of training data. I will try to populate with average value and create a predictor\n",
    "\n",
    "As for Embarked, only 2 missing data points, we can easily remove or assign the mode value, as i fail to see that this could be a crucial feature for predictions"
   ]
  },
  {
   "cell_type": "code",
   "execution_count": 7,
   "id": "16641d37",
   "metadata": {
    "ExecuteTime": {
     "end_time": "2022-02-05T09:55:34.167370Z",
     "start_time": "2022-02-05T09:55:34.152354Z"
    }
   },
   "outputs": [
    {
     "data": {
      "text/plain": [
       "Counter({'S': 644, 'C': 168, 'Q': 77, nan: 2})"
      ]
     },
     "execution_count": 7,
     "metadata": {},
     "output_type": "execute_result"
    }
   ],
   "source": [
    "Counter(train_df['Embarked'])"
   ]
  },
  {
   "cell_type": "code",
   "execution_count": 8,
   "id": "9c861e36",
   "metadata": {
    "ExecuteTime": {
     "end_time": "2022-02-05T09:55:34.183368Z",
     "start_time": "2022-02-05T09:55:34.169353Z"
    }
   },
   "outputs": [
    {
     "data": {
      "text/plain": [
       "Counter({'male': 577, 'female': 314})"
      ]
     },
     "execution_count": 8,
     "metadata": {},
     "output_type": "execute_result"
    }
   ],
   "source": [
    "Counter(train_df['Sex'])"
   ]
  },
  {
   "cell_type": "code",
   "execution_count": 9,
   "id": "f2ed4538",
   "metadata": {
    "ExecuteTime": {
     "end_time": "2022-02-05T09:55:34.199366Z",
     "start_time": "2022-02-05T09:55:34.184352Z"
    }
   },
   "outputs": [
    {
     "data": {
      "text/html": [
       "<div>\n",
       "<style scoped>\n",
       "    .dataframe tbody tr th:only-of-type {\n",
       "        vertical-align: middle;\n",
       "    }\n",
       "\n",
       "    .dataframe tbody tr th {\n",
       "        vertical-align: top;\n",
       "    }\n",
       "\n",
       "    .dataframe thead th {\n",
       "        text-align: right;\n",
       "    }\n",
       "</style>\n",
       "<table border=\"1\" class=\"dataframe\">\n",
       "  <thead>\n",
       "    <tr style=\"text-align: right;\">\n",
       "      <th></th>\n",
       "      <th>PassengerId</th>\n",
       "      <th>Survived</th>\n",
       "      <th>Pclass</th>\n",
       "      <th>Name</th>\n",
       "      <th>Sex</th>\n",
       "      <th>Age</th>\n",
       "      <th>SibSp</th>\n",
       "      <th>Parch</th>\n",
       "      <th>Ticket</th>\n",
       "      <th>Fare</th>\n",
       "      <th>Cabin</th>\n",
       "      <th>Embarked</th>\n",
       "      <th>Title</th>\n",
       "    </tr>\n",
       "  </thead>\n",
       "  <tbody>\n",
       "  </tbody>\n",
       "</table>\n",
       "</div>"
      ],
      "text/plain": [
       "Empty DataFrame\n",
       "Columns: [PassengerId, Survived, Pclass, Name, Sex, Age, SibSp, Parch, Ticket, Fare, Cabin, Embarked, Title]\n",
       "Index: []"
      ]
     },
     "execution_count": 9,
     "metadata": {},
     "output_type": "execute_result"
    }
   ],
   "source": [
    "train_df[train_df['Title'] == 'y']"
   ]
  },
  {
   "cell_type": "code",
   "execution_count": 10,
   "id": "7b86a7b4",
   "metadata": {
    "ExecuteTime": {
     "end_time": "2022-02-05T09:55:34.215375Z",
     "start_time": "2022-02-05T09:55:34.201367Z"
    },
    "scrolled": true
   },
   "outputs": [
    {
     "data": {
      "text/plain": [
       "Counter({' Mr': 517,\n",
       "         ' Mrs': 125,\n",
       "         ' Miss': 182,\n",
       "         ' Master': 40,\n",
       "         ' Don': 1,\n",
       "         ' Rev': 6,\n",
       "         ' Dr': 7,\n",
       "         ' Mme': 1,\n",
       "         ' Ms': 1,\n",
       "         ' Major': 2,\n",
       "         ' Lady': 1,\n",
       "         ' Sir': 1,\n",
       "         ' Mlle': 2,\n",
       "         ' Col': 2,\n",
       "         ' Capt': 1,\n",
       "         ' the Countess': 1,\n",
       "         ' Jonkheer': 1})"
      ]
     },
     "execution_count": 10,
     "metadata": {},
     "output_type": "execute_result"
    }
   ],
   "source": [
    "Counter(train_df['Title'])"
   ]
  },
  {
   "cell_type": "markdown",
   "id": "4bb0d86a",
   "metadata": {},
   "source": [
    "After a bit of googling it seems that all of the titles are correct, just based on different origins"
   ]
  },
  {
   "cell_type": "markdown",
   "id": "62723057",
   "metadata": {},
   "source": [
    "Lets first observe if some features are alone good predictors"
   ]
  },
  {
   "cell_type": "code",
   "execution_count": 11,
   "id": "583ecd63",
   "metadata": {
    "ExecuteTime": {
     "end_time": "2022-02-05T09:55:34.231365Z",
     "start_time": "2022-02-05T09:55:34.216365Z"
    }
   },
   "outputs": [
    {
     "data": {
      "text/html": [
       "<div>\n",
       "<style scoped>\n",
       "    .dataframe tbody tr th:only-of-type {\n",
       "        vertical-align: middle;\n",
       "    }\n",
       "\n",
       "    .dataframe tbody tr th {\n",
       "        vertical-align: top;\n",
       "    }\n",
       "\n",
       "    .dataframe thead th {\n",
       "        text-align: right;\n",
       "    }\n",
       "</style>\n",
       "<table border=\"1\" class=\"dataframe\">\n",
       "  <thead>\n",
       "    <tr style=\"text-align: right;\">\n",
       "      <th>Survived</th>\n",
       "      <th>0</th>\n",
       "      <th>1</th>\n",
       "    </tr>\n",
       "  </thead>\n",
       "  <tbody>\n",
       "    <tr>\n",
       "      <th>Age</th>\n",
       "      <td>30.626179</td>\n",
       "      <td>28.343690</td>\n",
       "    </tr>\n",
       "    <tr>\n",
       "      <th>Fare</th>\n",
       "      <td>22.117887</td>\n",
       "      <td>48.395408</td>\n",
       "    </tr>\n",
       "    <tr>\n",
       "      <th>Parch</th>\n",
       "      <td>0.329690</td>\n",
       "      <td>0.464912</td>\n",
       "    </tr>\n",
       "    <tr>\n",
       "      <th>PassengerId</th>\n",
       "      <td>447.016393</td>\n",
       "      <td>444.368421</td>\n",
       "    </tr>\n",
       "    <tr>\n",
       "      <th>Pclass</th>\n",
       "      <td>2.531876</td>\n",
       "      <td>1.950292</td>\n",
       "    </tr>\n",
       "    <tr>\n",
       "      <th>SibSp</th>\n",
       "      <td>0.553734</td>\n",
       "      <td>0.473684</td>\n",
       "    </tr>\n",
       "  </tbody>\n",
       "</table>\n",
       "</div>"
      ],
      "text/plain": [
       "Survived              0           1\n",
       "Age           30.626179   28.343690\n",
       "Fare          22.117887   48.395408\n",
       "Parch          0.329690    0.464912\n",
       "PassengerId  447.016393  444.368421\n",
       "Pclass         2.531876    1.950292\n",
       "SibSp          0.553734    0.473684"
      ]
     },
     "execution_count": 11,
     "metadata": {},
     "output_type": "execute_result"
    }
   ],
   "source": [
    "train_df.pivot_table(columns='Survived')"
   ]
  },
  {
   "cell_type": "code",
   "execution_count": 12,
   "id": "149bdf5d",
   "metadata": {
    "ExecuteTime": {
     "end_time": "2022-02-05T09:55:38.584635Z",
     "start_time": "2022-02-05T09:55:34.233372Z"
    }
   },
   "outputs": [
    {
     "data": {
      "text/plain": [
       "<seaborn.axisgrid.PairGrid at 0x1b1669448b0>"
      ]
     },
     "execution_count": 12,
     "metadata": {},
     "output_type": "execute_result"
    },
    {
     "data": {
      "image/png": "[encoded data removed]",
      "text/plain": [
       "<Figure size 947x900 with 30 Axes>"
      ]
     },
     "metadata": {},
     "output_type": "display_data"
    }
   ],
   "source": [
    "sns.pairplot(train_df[['Pclass', 'Sex', 'Age', 'SibSp', 'Parch', 'Fare', 'Embarked', 'Survived']],\n",
    "             hue=\"Survived\")"
   ]
  },
  {
   "cell_type": "markdown",
   "id": "3621de51",
   "metadata": {},
   "source": [
    "1. People who paid most and had the highest class tickets, were most likely to survive\n",
    "1. Passengers with more reletives were more likely to not survive, however the pairplot also shows that this is a causation not correlation, as more reletives ~ lower class and cheaper tickets"
   ]
  },
  {
   "cell_type": "code",
   "execution_count": 13,
   "id": "980b1711",
   "metadata": {
    "ExecuteTime": {
     "end_time": "2022-02-05T09:55:38.808644Z",
     "start_time": "2022-02-05T09:55:38.585651Z"
    }
   },
   "outputs": [
    {
     "data": {
      "text/plain": [
       "<AxesSubplot:xlabel='Age', ylabel='Count'>"
      ]
     },
     "execution_count": 13,
     "metadata": {},
     "output_type": "execute_result"
    },
    {
     "data": {
      "image/png": "[encoded data removed]",
      "text/plain": [
       "<Figure size 432x288 with 1 Axes>"
      ]
     },
     "metadata": {},
     "output_type": "display_data"
    }
   ],
   "source": [
    "sns.histplot(data=train_df, x='Age', hue=\"Survived\")"
   ]
  },
  {
   "cell_type": "code",
   "execution_count": 14,
   "id": "211a0d43",
   "metadata": {
    "ExecuteTime": {
     "end_time": "2022-02-05T09:55:38.919709Z",
     "start_time": "2022-02-05T09:55:38.810659Z"
    },
    "scrolled": true
   },
   "outputs": [
    {
     "data": {
      "text/plain": [
       "<AxesSubplot:xlabel='Sex', ylabel='Count'>"
      ]
     },
     "execution_count": 14,
     "metadata": {},
     "output_type": "execute_result"
    },
    {
     "data": {
      "image/png": "[encoded data removed]",
      "text/plain": [
       "<Figure size 432x288 with 1 Axes>"
      ]
     },
     "metadata": {},
     "output_type": "display_data"
    }
   ],
   "source": [
    "sns.histplot(data=train_df, x='Sex', hue=\"Survived\")"
   ]
  },
  {
   "cell_type": "code",
   "execution_count": 15,
   "id": "f11f7d25",
   "metadata": {
    "ExecuteTime": {
     "end_time": "2022-02-05T09:55:39.142961Z",
     "start_time": "2022-02-05T09:55:38.921698Z"
    },
    "scrolled": true
   },
   "outputs": [
    {
     "data": {
      "text/plain": [
       "<AxesSubplot:xlabel='Title', ylabel='Count'>"
      ]
     },
     "execution_count": 15,
     "metadata": {},
     "output_type": "execute_result"
    },
    {
     "data": {
      "image/png": "[encoded data removed]",
      "text/plain": [
       "<Figure size 432x288 with 1 Axes>"
      ]
     },
     "metadata": {},
     "output_type": "display_data"
    }
   ],
   "source": [
    "sns.histplot(data=train_df, x='Title', hue=\"Survived\")"
   ]
  },
  {
   "cell_type": "markdown",
   "id": "31967bf3",
   "metadata": {},
   "source": [
    "The Histograms agree with the common saying \"Children and women first\" when trying to save people from disasters"
   ]
  },
  {
   "cell_type": "markdown",
   "id": "6bdcf7ba",
   "metadata": {},
   "source": [
    "## Data cleaning"
   ]
  },
  {
   "cell_type": "markdown",
   "id": "1b9db437",
   "metadata": {},
   "source": [
    "Need to:\n",
    "1. Remove cabain, name, ticket columns, set passenger id as index\n",
    "1. Fill in missing data for Age and Embark\n",
    "1. Standardize data as we will most likely want to use regularization and SVMs (Age, Fare)\n",
    "(Both seem to have a gaussian distribution, with Fare having a bit more extreme values)\n",
    "\n",
    "Categorical values will be one hot encoded in the end"
   ]
  },
  {
   "cell_type": "code",
   "execution_count": 16,
   "id": "0690e9a2",
   "metadata": {
    "ExecuteTime": {
     "end_time": "2022-02-05T09:55:39.158971Z",
     "start_time": "2022-02-05T09:55:39.143955Z"
    }
   },
   "outputs": [],
   "source": [
    "clean_df = train_df.copy()"
   ]
  },
  {
   "cell_type": "code",
   "execution_count": 17,
   "id": "2139d8b3",
   "metadata": {
    "ExecuteTime": {
     "end_time": "2022-02-05T09:55:39.174963Z",
     "start_time": "2022-02-05T09:55:39.160966Z"
    }
   },
   "outputs": [],
   "source": [
    "clean_df = clean_df.drop(['Name', 'Cabin', 'Ticket'], axis=1)\n",
    "clean_df = clean_df.set_index('PassengerId')"
   ]
  },
  {
   "cell_type": "code",
   "execution_count": 18,
   "id": "a80133d0",
   "metadata": {
    "ExecuteTime": {
     "end_time": "2022-02-05T09:55:39.190381Z",
     "start_time": "2022-02-05T09:55:39.175708Z"
    }
   },
   "outputs": [],
   "source": [
    "mu_age, std_age = clean_df['Age'].mean(), clean_df['Age'].std()\n",
    "mu_fare, std_fare = clean_df['Fare'].mean(), clean_df['Fare'].std()\n",
    "\n",
    "mode_embark = clean_df['Embarked'].mode()[0]\n",
    "\n",
    "clean_df['Embarked'] = clean_df['Embarked'].fillna(mode_embark)\n",
    "# Keep values saved as they need to be used for test and prediction data"
   ]
  },
  {
   "cell_type": "code",
   "execution_count": 19,
   "id": "7ae4be79",
   "metadata": {
    "ExecuteTime": {
     "end_time": "2022-02-05T09:55:39.205934Z",
     "start_time": "2022-02-05T09:55:39.192373Z"
    }
   },
   "outputs": [],
   "source": [
    "def one_hot_encode(\n",
    "    df: pd.DataFrame, columns: List[str] = ['Pclass', 'Sex', 'Embarked', 'Title']\n",
    ") -> pd.DataFrame:\n",
    "    return pd.get_dummies(df, columns=columns)"
   ]
  },
  {
   "cell_type": "code",
   "execution_count": 20,
   "id": "0ea84b1a",
   "metadata": {
    "ExecuteTime": {
     "end_time": "2022-02-05T09:55:39.237920Z",
     "start_time": "2022-02-05T09:55:39.207913Z"
    }
   },
   "outputs": [],
   "source": [
    "clean_df_one_hot = one_hot_encode(clean_df)\n",
    "cols_order = clean_df_one_hot.columns  # retain columns ordering\n",
    "clean_df_no_nan = clean_df_one_hot.dropna()\n",
    "clean_df_missing_age = clean_df_one_hot[clean_df_one_hot['Age'].isna()].drop(\n",
    "    'Age', axis=1)\n",
    "\n",
    "\n",
    "linear_model_age = linear_model.LinearRegression()\n",
    "\n",
    "linear_model_age.fit(X=clean_df_no_nan.drop('Age', axis=1),\n",
    "                     y=clean_df_no_nan['Age'])\n",
    "\n",
    "predicted_age = linear_model_age.predict(clean_df_missing_age)"
   ]
  },
  {
   "cell_type": "code",
   "execution_count": 21,
   "id": "75893c4a",
   "metadata": {
    "ExecuteTime": {
     "end_time": "2022-02-05T09:55:39.253923Z",
     "start_time": "2022-02-05T09:55:39.238920Z"
    }
   },
   "outputs": [],
   "source": [
    "def overwrite_missing_age(\n",
    "    missing_age_df: pd.DataFrame, series_or_vlaue: Union[pd.Series, float], col_order: List[str]\n",
    ") -> pd.DataFrame:\n",
    "\n",
    "    return_df = missing_age_df.copy()\n",
    "    return_df['Age'] = series_or_vlaue\n",
    "    return return_df[col_order]"
   ]
  },
  {
   "cell_type": "code",
   "execution_count": 22,
   "id": "e91031bd",
   "metadata": {
    "ExecuteTime": {
     "end_time": "2022-02-05T09:55:39.269929Z",
     "start_time": "2022-02-05T09:55:39.255925Z"
    }
   },
   "outputs": [],
   "source": [
    "clean_df_mean_age = overwrite_missing_age(\n",
    "    clean_df_missing_age, mu_age, cols_order)\n",
    "\n",
    "clean_df_impute_age = overwrite_missing_age(\n",
    "    clean_df_missing_age, predicted_age, cols_order)\n",
    "\n",
    "df_mean_age = pd.concat([clean_df_no_nan, clean_df_mean_age])\n",
    "df_impute_age = pd.concat([clean_df_no_nan, clean_df_impute_age])"
   ]
  },
  {
   "cell_type": "code",
   "execution_count": 23,
   "id": "8306bbde",
   "metadata": {
    "ExecuteTime": {
     "end_time": "2022-02-05T09:55:39.285933Z",
     "start_time": "2022-02-05T09:55:39.270930Z"
    }
   },
   "outputs": [],
   "source": [
    "def standardize_series(series: pd.Series, mu, std) -> pd.Series:\n",
    "    return (series - mu) / std"
   ]
  },
  {
   "cell_type": "code",
   "execution_count": 24,
   "id": "90632b07",
   "metadata": {
    "ExecuteTime": {
     "end_time": "2022-02-05T09:55:39.301936Z",
     "start_time": "2022-02-05T09:55:39.286933Z"
    }
   },
   "outputs": [],
   "source": [
    "df_mean_age['Age'] = standardize_series(df_mean_age['Age'], mu_age, std_age)\n",
    "df_mean_age['Fare'] = standardize_series(\n",
    "    df_mean_age['Fare'], mu_fare, std_fare)"
   ]
  },
  {
   "cell_type": "code",
   "execution_count": 25,
   "id": "e6079ed4",
   "metadata": {
    "ExecuteTime": {
     "end_time": "2022-02-05T09:55:39.317940Z",
     "start_time": "2022-02-05T09:55:39.302936Z"
    }
   },
   "outputs": [],
   "source": [
    "df_impute_age['Age'] = standardize_series(\n",
    "    df_impute_age['Age'], mu_age, std_age)\n",
    "df_impute_age['Fare'] = standardize_series(\n",
    "    df_impute_age['Fare'], mu_fare, std_fare)"
   ]
  },
  {
   "cell_type": "markdown",
   "id": "486d9be5",
   "metadata": {},
   "source": [
    "## Predictions"
   ]
  },
  {
   "cell_type": "code",
   "execution_count": 26,
   "id": "42db4ead",
   "metadata": {
    "ExecuteTime": {
     "end_time": "2022-02-05T09:55:39.333945Z",
     "start_time": "2022-02-05T09:55:39.319940Z"
    }
   },
   "outputs": [],
   "source": [
    "train_df, test_df = model_selection.train_test_split(\n",
    "    df_mean_age, test_size=0.2)\n",
    "# Lets keep the split rows same in both mean age df and imputed age df\n",
    "train_df_imp = df_impute_age.loc[df_impute_age.index.isin(train_df.index)]\n",
    "test_df_imp = df_impute_age.loc[df_impute_age.index.isin(test_df.index)]"
   ]
  },
  {
   "cell_type": "markdown",
   "id": "3f331da4",
   "metadata": {},
   "source": [
    "We want to classify if a person would have died or not in the titanic disaster.\n",
    "\n",
    "It is a two class classification problem, so appropriate models would be:\n",
    "1. Logistic regression\n",
    "1. SVM machine\n",
    "1. Naive Bayes\n",
    "1. Decision tree / forest\n",
    "1. Neural network (Why not)"
   ]
  },
  {
   "cell_type": "markdown",
   "id": "33ea390a",
   "metadata": {
    "ExecuteTime": {
     "end_time": "2022-01-26T19:02:03.320618Z",
     "start_time": "2022-01-26T19:02:03.312616Z"
    }
   },
   "source": [
    "### Logistic regression"
   ]
  },
  {
   "cell_type": "code",
   "execution_count": 27,
   "id": "71fc8a6c",
   "metadata": {
    "ExecuteTime": {
     "end_time": "2022-02-05T09:55:39.349946Z",
     "start_time": "2022-02-05T09:55:39.335945Z"
    }
   },
   "outputs": [],
   "source": [
    "Cs = np.arange(0.1, 10.1, 0.1)\n",
    "reg_ratios = np.linspace(0.1, 1, 10)\n",
    "\n",
    "log_model_l1 = linear_model.LogisticRegressionCV(\n",
    "    Cs=Cs, penalty='l1', solver='liblinear')\n",
    "log_model_l2 = linear_model.LogisticRegressionCV(\n",
    "    Cs=Cs, penalty='l2', solver='liblinear')\n",
    "log_model_elastic = linear_model.LogisticRegressionCV(\n",
    "    Cs=Cs, penalty='elasticnet', solver='saga', l1_ratios=reg_ratios, max_iter=500)"
   ]
  },
  {
   "cell_type": "code",
   "execution_count": 28,
   "id": "22ee75ef",
   "metadata": {
    "ExecuteTime": {
     "end_time": "2022-02-05T09:56:50.409199Z",
     "start_time": "2022-02-05T09:55:39.354948Z"
    },
    "scrolled": true
   },
   "outputs": [
    {
     "name": "stdout",
     "output_type": "stream",
     "text": [
      "log_model_l1 trained\n",
      "log_model_l2 trained\n",
      "log_model_elastic trained\n"
     ]
    }
   ],
   "source": [
    "log_model_l1.fit(train_df.drop('Survived', axis=1), train_df['Survived'])\n",
    "print(\"log_model_l1 trained\")\n",
    "log_model_l2.fit(train_df.drop('Survived', axis=1), train_df['Survived'])\n",
    "print(\"log_model_l2 trained\")\n",
    "log_model_elastic.fit(train_df.drop('Survived', axis=1), train_df['Survived'])\n",
    "print(\"log_model_elastic trained\")"
   ]
  },
  {
   "cell_type": "code",
   "execution_count": 29,
   "id": "b1c3e04c",
   "metadata": {
    "ExecuteTime": {
     "end_time": "2022-02-05T09:56:50.425204Z",
     "start_time": "2022-02-05T09:56:50.411200Z"
    }
   },
   "outputs": [],
   "source": [
    "def model_evaluation(model, train_df, test_df):\n",
    "    train_acc = model.score(train_df.drop(\n",
    "        'Survived', axis=1), train_df['Survived'])\n",
    "    test_acc = model.score(test_df.drop(\n",
    "        'Survived', axis=1), test_df['Survived'])\n",
    "\n",
    "    x_df = pd.DataFrame((model.feature_names_in_, model.coef_[0])).T\n",
    "    x_df.columns = ['name', 'coef']\n",
    "    top_10_features = x_df.sort_values(\n",
    "        'coef', key=abs, ascending=False).head(10)\n",
    "\n",
    "    print(f\"\"\"\n",
    "    -----------------------------------------------------\n",
    "    Parameters:\n",
    "        C: {model.C_}\n",
    "        l1 ratio: {model.l1_ratio_}\n",
    "    \n",
    "    Intercept: {model.intercept_}\n",
    "    Top 10 coeficients: \n",
    "    {top_10_features.to_string(index=False,header=False)}\n",
    "    \n",
    "    Train / Test accuracy \n",
    "    {round(train_acc*100,2)}% / {round(test_acc*100,2)}%\n",
    "    -----------------------------------------------------\n",
    "    \n",
    "    \"\"\")"
   ]
  },
  {
   "cell_type": "code",
   "execution_count": 30,
   "id": "7091cad1",
   "metadata": {
    "ExecuteTime": {
     "end_time": "2022-02-05T09:56:50.457211Z",
     "start_time": "2022-02-05T09:56:50.426203Z"
    }
   },
   "outputs": [
    {
     "name": "stdout",
     "output_type": "stream",
     "text": [
      "Log model with Lasso regularization\n",
      "\n",
      "    -----------------------------------------------------\n",
      "    Parameters:\n",
      "        C: [0.6]\n",
      "        l1 ratio: [None]\n",
      "    \n",
      "    Intercept: [0.]\n",
      "    Top 10 coeficients: \n",
      "    Title_ Master  2.390932\n",
      "   Sex_female  1.526693\n",
      "     Pclass_1  1.037052\n",
      "     Pclass_3 -0.971616\n",
      "   Title_ Mrs  0.860149\n",
      "     Sex_male -0.658124\n",
      "    Title_ Mr -0.570683\n",
      "        SibSp -0.505884\n",
      "          Age -0.360798\n",
      "   Embarked_C  0.259358\n",
      "    \n",
      "    Train / Test accuracy \n",
      "    82.44% / 82.68%\n",
      "    -----------------------------------------------------\n",
      "    \n",
      "    \n",
      "Log model with Ridge regularization\n",
      "\n",
      "    -----------------------------------------------------\n",
      "    Parameters:\n",
      "        C: [1.3]\n",
      "        l1 ratio: [None]\n",
      "    \n",
      "    Intercept: [0.39136744]\n",
      "    Top 10 coeficients: \n",
      "    Title_ Master  2.108169\n",
      "   Sex_female  1.233471\n",
      "     Pclass_1    1.1742\n",
      "   Title_ Rev -0.932491\n",
      "    Title_ Mr  -0.92759\n",
      "     Pclass_3 -0.896314\n",
      "     Sex_male -0.842103\n",
      "   Title_ Mrs  0.808611\n",
      "   Title_ Don  -0.67932\n",
      "        SibSp -0.539189\n",
      "    \n",
      "    Train / Test accuracy \n",
      "    82.58% / 82.68%\n",
      "    -----------------------------------------------------\n",
      "    \n",
      "    \n",
      "Log model with Elastic regularization\n",
      "\n",
      "    -----------------------------------------------------\n",
      "    Parameters:\n",
      "        C: [0.6]\n",
      "        l1 ratio: [1.]\n",
      "    \n",
      "    Intercept: [0.2914133]\n",
      "    Top 10 coeficients: \n",
      "    Title_ Master  2.381579\n",
      "   Sex_female   1.23412\n",
      "     Pclass_1   1.03714\n",
      "     Pclass_3 -0.971112\n",
      "     Sex_male -0.944298\n",
      "   Title_ Mrs  0.860681\n",
      "    Title_ Mr -0.576351\n",
      "        SibSp -0.505632\n",
      "          Age -0.361313\n",
      "   Embarked_C  0.259451\n",
      "    \n",
      "    Train / Test accuracy \n",
      "    82.58% / 82.68%\n",
      "    -----------------------------------------------------\n",
      "    \n",
      "    \n"
     ]
    }
   ],
   "source": [
    "print('Log model with Lasso regularization')\n",
    "model_evaluation(log_model_l1, train_df, test_df)\n",
    "print('Log model with Ridge regularization')\n",
    "model_evaluation(log_model_l2, train_df, test_df)\n",
    "print('Log model with Elastic regularization')\n",
    "model_evaluation(log_model_elastic, train_df, test_df)"
   ]
  },
  {
   "cell_type": "markdown",
   "id": "0a694a3e",
   "metadata": {},
   "source": [
    "We get between 81-83% accuracy on test data with small difference between regularization models.\n",
    "\n",
    "We also see that Sex, tittle and class were amongst the most important features."
   ]
  },
  {
   "cell_type": "markdown",
   "id": "c2c8d2c4",
   "metadata": {},
   "source": [
    "Can we get better results using imputed age instead of mean age ?"
   ]
  },
  {
   "cell_type": "code",
   "execution_count": 31,
   "id": "3dcc7a16",
   "metadata": {
    "ExecuteTime": {
     "end_time": "2022-02-05T09:56:50.473248Z",
     "start_time": "2022-02-05T09:56:50.458212Z"
    }
   },
   "outputs": [],
   "source": [
    "Cs = np.arange(0.1, 10.1, 0.1)\n",
    "reg_ratios = np.linspace(0.1, 1, 10)\n",
    "\n",
    "log_model_l1 = linear_model.LogisticRegressionCV(\n",
    "    Cs=Cs, penalty='l1', solver='liblinear')\n",
    "log_model_l2 = linear_model.LogisticRegressionCV(\n",
    "    Cs=Cs, penalty='l2', solver='liblinear')\n",
    "log_model_elastic = linear_model.LogisticRegressionCV(\n",
    "    Cs=Cs, penalty='elasticnet', solver='saga', l1_ratios=reg_ratios, max_iter=500)"
   ]
  },
  {
   "cell_type": "code",
   "execution_count": 32,
   "id": "08e12376",
   "metadata": {
    "ExecuteTime": {
     "end_time": "2022-02-05T09:58:01.612753Z",
     "start_time": "2022-02-05T09:56:50.475249Z"
    }
   },
   "outputs": [
    {
     "name": "stdout",
     "output_type": "stream",
     "text": [
      "log_model_l1 trained\n",
      "log_model_l2 trained\n",
      "log_model_elastic trained\n"
     ]
    }
   ],
   "source": [
    "log_model_l1.fit(train_df_imp.drop('Survived', axis=1),\n",
    "                 train_df_imp['Survived'])\n",
    "print(\"log_model_l1 trained\")\n",
    "log_model_l2.fit(train_df_imp.drop('Survived', axis=1),\n",
    "                 train_df_imp['Survived'])\n",
    "print(\"log_model_l2 trained\")\n",
    "log_model_elastic.fit(train_df_imp.drop(\n",
    "    'Survived', axis=1), train_df_imp['Survived'])\n",
    "print(\"log_model_elastic trained\")"
   ]
  },
  {
   "cell_type": "code",
   "execution_count": 33,
   "id": "f0e10bb5",
   "metadata": {
    "ExecuteTime": {
     "end_time": "2022-02-05T09:58:01.645117Z",
     "start_time": "2022-02-05T09:58:01.613753Z"
    }
   },
   "outputs": [
    {
     "name": "stdout",
     "output_type": "stream",
     "text": [
      "Log model with Lasso regularization\n",
      "\n",
      "    -----------------------------------------------------\n",
      "    Parameters:\n",
      "        C: [2.]\n",
      "        l1 ratio: [None]\n",
      "    \n",
      "    Intercept: [0.]\n",
      "    Top 10 coeficients: \n",
      "    Title_ Master  2.771832\n",
      "   Sex_female  1.756673\n",
      "     Pclass_1   1.33396\n",
      "     Pclass_3 -1.089164\n",
      "   Title_ Mrs  1.041114\n",
      "   Title_ Rev -0.800384\n",
      "     Sex_male  -0.73463\n",
      "        SibSp  -0.60822\n",
      "          Age -0.550924\n",
      "   Title_ Sir  0.456889\n",
      "    \n",
      "    Train / Test accuracy \n",
      "    83.99% / 83.24%\n",
      "    -----------------------------------------------------\n",
      "    \n",
      "    \n",
      "Log model with Ridge regularization\n",
      "\n",
      "    -----------------------------------------------------\n",
      "    Parameters:\n",
      "        C: [0.5]\n",
      "        l1 ratio: [None]\n",
      "    \n",
      "    Intercept: [0.37741424]\n",
      "    Top 10 coeficients: \n",
      "    Title_ Master  1.378466\n",
      "     Pclass_1  1.208646\n",
      "   Sex_female  1.053362\n",
      "    Title_ Mr -0.998702\n",
      "   Title_ Mrs  0.925097\n",
      "     Pclass_3 -0.918137\n",
      "     Sex_male -0.675948\n",
      "          Age -0.554337\n",
      "   Title_ Rev -0.526644\n",
      "        SibSp -0.518398\n",
      "    \n",
      "    Train / Test accuracy \n",
      "    83.43% / 83.24%\n",
      "    -----------------------------------------------------\n",
      "    \n",
      "    \n",
      "Log model with Elastic regularization\n",
      "\n",
      "    -----------------------------------------------------\n",
      "    Parameters:\n",
      "        C: [2.5]\n",
      "        l1 ratio: [0.8]\n",
      "    \n",
      "    Intercept: [0.66162472]\n",
      "    Top 10 coeficients: \n",
      "    Title_ Master  2.664437\n",
      "     Pclass_1  1.333247\n",
      "   Sex_female   1.32469\n",
      "     Sex_male -1.288534\n",
      "   Title_ Rev -1.117152\n",
      "     Pclass_3 -1.094815\n",
      "   Title_ Don -0.912018\n",
      "   Title_ Mrs  0.846232\n",
      "   Title_ Sir  0.792924\n",
      "        SibSp -0.614267\n",
      "    \n",
      "    Train / Test accuracy \n",
      "    83.99% / 83.24%\n",
      "    -----------------------------------------------------\n",
      "    \n",
      "    \n"
     ]
    }
   ],
   "source": [
    "print('Log model with Lasso regularization')\n",
    "model_evaluation(log_model_l1, train_df_imp, test_df_imp)\n",
    "print('Log model with Ridge regularization')\n",
    "model_evaluation(log_model_l2, train_df_imp, test_df_imp)\n",
    "print('Log model with Elastic regularization')\n",
    "model_evaluation(log_model_elastic, train_df_imp, test_df_imp)"
   ]
  },
  {
   "cell_type": "markdown",
   "id": "7cbae492",
   "metadata": {},
   "source": [
    "With imputed age dataframe we get up to 3% better results"
   ]
  },
  {
   "cell_type": "markdown",
   "id": "95f4f3b6",
   "metadata": {
    "ExecuteTime": {
     "end_time": "2022-01-31T16:30:42.933958Z",
     "start_time": "2022-01-31T16:30:42.924938Z"
    }
   },
   "source": [
    "### SVM machine"
   ]
  },
  {
   "cell_type": "code",
   "execution_count": 34,
   "id": "49349b6f",
   "metadata": {
    "ExecuteTime": {
     "end_time": "2022-02-05T09:58:01.660791Z",
     "start_time": "2022-02-05T09:58:01.647122Z"
    }
   },
   "outputs": [],
   "source": [
    "# SVM do not have built in way to determine best regularization param,\n",
    "# So we do it ourselves"
   ]
  },
  {
   "cell_type": "code",
   "execution_count": 35,
   "id": "46df3619",
   "metadata": {
    "ExecuteTime": {
     "end_time": "2022-02-05T09:58:01.676658Z",
     "start_time": "2022-02-05T09:58:01.662779Z"
    }
   },
   "outputs": [],
   "source": [
    "def train_svm(Cs, train_df):\n",
    "    rbf_score = 0\n",
    "    lin_score = 0\n",
    "\n",
    "    for c in Cs:\n",
    "        svc_rbf = svm.SVC(C=c, kernel='rbf')\n",
    "        svc_lin = svm.SVC(C=c, kernel='linear')\n",
    "\n",
    "        rbf_score_c = model_selection.cross_val_score(svc_rbf, train_df.drop(\n",
    "            'Survived', axis=1), train_df['Survived'], cv=5, scoring='accuracy')\n",
    "        lin_score_c = model_selection.cross_val_score(svc_lin, train_df.drop(\n",
    "            'Survived', axis=1), train_df['Survived'], cv=5, scoring='accuracy')\n",
    "\n",
    "        if rbf_score < rbf_score_c.mean():\n",
    "            rbf_c = c\n",
    "            rbf_score = rbf_score_c.mean()\n",
    "\n",
    "        if lin_score < lin_score_c.mean():\n",
    "            lin_c = c\n",
    "            lin_score = lin_score_c.mean()\n",
    "\n",
    "    svc_rbf = svm.SVC(C=rbf_c, kernel='rbf')\n",
    "    svc_rbf.fit(train_df.drop('Survived', axis=1), train_df['Survived'])\n",
    "\n",
    "    svc_lin = svm.SVC(C=lin_c, kernel='linear')\n",
    "    svc_lin.fit(train_df.drop('Survived', axis=1), train_df['Survived'])\n",
    "\n",
    "    return svc_rbf, svc_lin"
   ]
  },
  {
   "cell_type": "code",
   "execution_count": 36,
   "id": "f6fc93b0",
   "metadata": {
    "ExecuteTime": {
     "end_time": "2022-02-05T09:58:01.691770Z",
     "start_time": "2022-02-05T09:58:01.678667Z"
    }
   },
   "outputs": [],
   "source": [
    "def evaluate_svm(model, train_df, test_df):\n",
    "    train_acc = model.score(train_df.drop(\n",
    "        'Survived', axis=1), train_df['Survived'])\n",
    "    test_acc = model.score(test_df.drop(\n",
    "        'Survived', axis=1), test_df['Survived'])\n",
    "\n",
    "    print(f\"\"\"\n",
    "    -----------------------------------------------------\n",
    "    Parameters:\n",
    "        C: {model.C}\n",
    "    \n",
    "    Train / Test accuracy \n",
    "    {round(train_acc*100,2)}% / {round(test_acc*100,2)}%\n",
    "    -----------------------------------------------------\n",
    "    \"\"\")"
   ]
  },
  {
   "cell_type": "code",
   "execution_count": 37,
   "id": "28d30955",
   "metadata": {
    "ExecuteTime": {
     "end_time": "2022-02-05T09:58:22.576646Z",
     "start_time": "2022-02-05T09:58:01.693771Z"
    },
    "scrolled": true
   },
   "outputs": [
    {
     "name": "stdout",
     "output_type": "stream",
     "text": [
      "SVM with rbf kernal evaulation\n",
      "\n",
      "    -----------------------------------------------------\n",
      "    Parameters:\n",
      "        C: 0.7000000000000001\n",
      "    \n",
      "    Train / Test accuracy \n",
      "    83.85% / 83.24%\n",
      "    -----------------------------------------------------\n",
      "    \n",
      "SVM with linear kernal evaulation\n",
      "\n",
      "    -----------------------------------------------------\n",
      "    Parameters:\n",
      "        C: 0.4\n",
      "    \n",
      "    Train / Test accuracy \n",
      "    83.29% / 81.56%\n",
      "    -----------------------------------------------------\n",
      "    \n"
     ]
    }
   ],
   "source": [
    "Cs = np.arange(0.1, 10.1, 0.1)\n",
    "svc_rbf, svc_lin = train_svm(Cs, train_df)\n",
    "\n",
    "print(\"SVM with rbf kernal evaulation\")\n",
    "evaluate_svm(svc_rbf, train_df, test_df)\n",
    "print(\"SVM with linear kernal evaulation\")\n",
    "evaluate_svm(svc_lin, train_df, test_df)"
   ]
  },
  {
   "cell_type": "markdown",
   "id": "61fbf7b2",
   "metadata": {},
   "source": [
    "We can see accuracy results of 86-88% using mean age training df, which is better than Logistic regression. Lets try out the other training dataframe"
   ]
  },
  {
   "cell_type": "code",
   "execution_count": 39,
   "id": "e0a23c3f",
   "metadata": {
    "ExecuteTime": {
     "end_time": "2022-02-05T09:59:19.405752Z",
     "start_time": "2022-02-05T09:59:19.392748Z"
    }
   },
   "outputs": [
    {
     "ename": "ValueError",
     "evalue": "Takes a long time to run, rerun at own risk",
     "output_type": "error",
     "traceback": [
      "\u001b[1;31m---------------------------------------------------------------------------\u001b[0m",
      "\u001b[1;31mValueError\u001b[0m                                Traceback (most recent call last)",
      "\u001b[1;32m~\\AppData\\Local\\Temp/ipykernel_6688/4169061587.py\u001b[0m in \u001b[0;36m<module>\u001b[1;34m\u001b[0m\n\u001b[1;32m----> 1\u001b[1;33m \u001b[1;32mraise\u001b[0m\u001b[1;33m(\u001b[0m\u001b[0mValueError\u001b[0m\u001b[1;33m(\u001b[0m\u001b[1;34m\"Takes a long time to run, rerun at own risk\"\u001b[0m\u001b[1;33m)\u001b[0m\u001b[1;33m)\u001b[0m\u001b[1;33m\u001b[0m\u001b[1;33m\u001b[0m\u001b[0m\n\u001b[0m\u001b[0;32m      2\u001b[0m \u001b[0mCs\u001b[0m \u001b[1;33m=\u001b[0m \u001b[0mnp\u001b[0m\u001b[1;33m.\u001b[0m\u001b[0marange\u001b[0m\u001b[1;33m(\u001b[0m\u001b[1;36m0.1\u001b[0m\u001b[1;33m,\u001b[0m \u001b[1;36m10.1\u001b[0m\u001b[1;33m,\u001b[0m \u001b[1;36m0.1\u001b[0m\u001b[1;33m)\u001b[0m\u001b[1;33m\u001b[0m\u001b[1;33m\u001b[0m\u001b[0m\n\u001b[0;32m      3\u001b[0m \u001b[0msvc_rbf\u001b[0m\u001b[1;33m,\u001b[0m \u001b[0msvc_lin\u001b[0m \u001b[1;33m=\u001b[0m \u001b[0mtrain_svm\u001b[0m\u001b[1;33m(\u001b[0m\u001b[0mCs\u001b[0m\u001b[1;33m,\u001b[0m \u001b[0mtrain_df_imp\u001b[0m\u001b[1;33m)\u001b[0m\u001b[1;33m\u001b[0m\u001b[1;33m\u001b[0m\u001b[0m\n\u001b[0;32m      4\u001b[0m \u001b[1;33m\u001b[0m\u001b[0m\n\u001b[0;32m      5\u001b[0m \u001b[0mprint\u001b[0m\u001b[1;33m(\u001b[0m\u001b[1;34m\"SVM with rbf kernal evaulation\"\u001b[0m\u001b[1;33m)\u001b[0m\u001b[1;33m\u001b[0m\u001b[1;33m\u001b[0m\u001b[0m\n",
      "\u001b[1;31mValueError\u001b[0m: Takes a long time to run, rerun at own risk"
     ]
    }
   ],
   "source": [
    "raise(ValueError(\"Takes a long time to run, rerun at own risk\"))\n",
    "Cs = np.arange(0.1, 10.1, 0.1)\n",
    "svc_rbf, svc_lin = train_svm(Cs, train_df_imp)\n",
    "\n",
    "print(\"SVM with rbf kernal evaulation\")\n",
    "evaluate_svm(svc_rbf, train_df_imp, test_df_imp)\n",
    "print(\"SVM with linear kernal evaulation\")\n",
    "evaluate_svm(svc_lin, train_df_imp, test_df_imp)"
   ]
  },
  {
   "cell_type": "markdown",
   "id": "03515a66",
   "metadata": {},
   "source": [
    "This model is less sensitive to mean vs. imputed dataframes, but the imputed one again outputs a model with higher accuracy of ~89%\n",
    "\n",
    "We can also see that radial basis function kernel yields better results in training and testing"
   ]
  },
  {
   "cell_type": "markdown",
   "id": "ce0dd7d8",
   "metadata": {
    "ExecuteTime": {
     "end_time": "2022-01-31T17:50:37.022133Z",
     "start_time": "2022-01-31T17:50:37.004111Z"
    }
   },
   "source": [
    "### Naive Bayes"
   ]
  },
  {
   "cell_type": "code",
   "execution_count": 40,
   "id": "30b72681",
   "metadata": {
    "ExecuteTime": {
     "end_time": "2022-02-05T09:59:25.825936Z",
     "start_time": "2022-02-05T09:59:25.815921Z"
    }
   },
   "outputs": [],
   "source": [
    "gaussian_nb = naive_bayes.GaussianNB()"
   ]
  },
  {
   "cell_type": "code",
   "execution_count": 41,
   "id": "bee8b0b6",
   "metadata": {
    "ExecuteTime": {
     "end_time": "2022-02-05T09:59:26.508705Z",
     "start_time": "2022-02-05T09:59:26.494704Z"
    }
   },
   "outputs": [],
   "source": [
    "def gaussian_model(model, train_df, test_df):\n",
    "    model.fit(train_df.drop(\n",
    "        'Survived', axis=1), train_df['Survived'])\n",
    "    print(\"Gaussian Naive Bayes classifier scores:\")\n",
    "    print(f\"{round(model.score(train_df.drop('Survived', axis=1), train_df['Survived'])*100,2)} %\")\n",
    "    print(f\"{round(model.score(test_df.drop('Survived', axis=1), test_df['Survived'])*100,2)} %\")\n",
    "    return model"
   ]
  },
  {
   "cell_type": "code",
   "execution_count": 44,
   "id": "5267f806",
   "metadata": {
    "ExecuteTime": {
     "end_time": "2022-02-05T10:00:29.506984Z",
     "start_time": "2022-02-05T10:00:29.485974Z"
    }
   },
   "outputs": [
    {
     "name": "stdout",
     "output_type": "stream",
     "text": [
      "Mean age dataframe results\n",
      "Gaussian Naive Bayes classifier scores:\n",
      "64.89 %\n",
      "63.13 %\n",
      "--------------------------------------\n",
      "Imputed age dataframe results\n",
      "Gaussian Naive Bayes classifier scores:\n",
      "64.75 %\n",
      "63.13 %\n",
      "--------------------------------------\n"
     ]
    }
   ],
   "source": [
    "print(\"Mean age dataframe results\")\n",
    "gaussian_model(gaussian_nb, train_df, test_df)\n",
    "print(\"--------------------------------------\")\n",
    "print(\"Imputed age dataframe results\")\n",
    "gaussian_model(gaussian_nb, train_df_imp, test_df_imp)\n",
    "print(\"--------------------------------------\")"
   ]
  },
  {
   "cell_type": "markdown",
   "id": "97e8f1c0",
   "metadata": {},
   "source": [
    "As expected Naive Bayse model does not provide better results as other models"
   ]
  },
  {
   "cell_type": "code",
   "execution_count": null,
   "id": "7d9b8dcb",
   "metadata": {},
   "outputs": [],
   "source": []
  }
 ],
 "metadata": {
  "kernelspec": {
   "display_name": "Python 3 (ipykernel)",
   "language": "python",
   "name": "python3"
  },
  "language_info": {
   "codemirror_mode": {
    "name": "ipython",
    "version": 3
   },
   "file_extension": ".py",
   "mimetype": "text/x-python",
   "name": "python",
   "nbconvert_exporter": "python",
   "pygments_lexer": "ipython3",
   "version": "3.8.5"
  },
  "varInspector": {
   "cols": {
    "lenName": 16,
    "lenType": 16,
    "lenVar": 40
   },
   "kernels_config": {
    "python": {
     "delete_cmd_postfix": "",
     "delete_cmd_prefix": "del ",
     "library": "var_list.py",
     "varRefreshCmd": "print(var_dic_list())"
    },
    "r": {
     "delete_cmd_postfix": ") ",
     "delete_cmd_prefix": "rm(",
     "library": "var_list.r",
     "varRefreshCmd": "cat(var_dic_list()) "
    }
   },
   "types_to_exclude": [
    "module",
    "function",
    "builtin_function_or_method",
    "instance",
    "_Feature"
   ],
   "window_display": false
  }
 },
 "nbformat": 4,
 "nbformat_minor": 5
}
